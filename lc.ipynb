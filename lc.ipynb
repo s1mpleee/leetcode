{
 "cells": [
  {
   "cell_type": "code",
   "execution_count": 1,
   "metadata": {},
   "outputs": [
    {
     "data": {
      "text/plain": [
       "[0, 0, 1, 4, 4, 6, 7, 8]"
      ]
     },
     "execution_count": 1,
     "metadata": {},
     "output_type": "execute_result"
    }
   ],
   "source": [
    "# python获得索引后的序号\n",
    "a = [1,7,0,6,4,8,4,0]\n",
    "sorted(a)\n",
    "sorted(range(len(a)), key= lambda k:a[k])"
   ]
  },
  {
   "cell_type": "code",
   "execution_count": 5,
   "metadata": {},
   "outputs": [],
   "source": [
    "# 快速排序\n",
    "def quick_sort(data):\n",
    "    if len(data) >= 2:\n",
    "        mid = data[len(data)//2]\n",
    "        left,right = [], []\n",
    "        data.remove(mid)\n",
    "        for num in data:\n",
    "            if num >= mid:\n",
    "                right.append(num)\n",
    "            else:\n",
    "                left.append(num)\n",
    "        return quick_sort(left) + [mid] + quick_sort(right)\n",
    "    else:\n",
    "        return data"
   ]
  },
  {
   "cell_type": "code",
   "execution_count": null,
   "metadata": {},
   "outputs": [],
   "source": [
    "# 冒泡排序\n",
    "def bubbleSort(arr):\n",
    "    for i in range(1, len(arr)):\n",
    "        for j in range(0, len(arr)-i):\n",
    "            if arr[j] > arr[j+1]:\n",
    "                arr[j], arr[j+1] = arr[j+1], arr[j]\n",
    "    return arr"
   ]
  },
  {
   "cell_type": "code",
   "execution_count": 1,
   "metadata": {},
   "outputs": [
    {
     "data": {
      "text/plain": [
       "'gfedcba'"
      ]
     },
     "execution_count": 1,
     "metadata": {},
     "output_type": "execute_result"
    }
   ],
   "source": [
    "def f(s):\n",
    "    if s=='':\n",
    "        return s\n",
    "    else:\n",
    "        return f(s[1:])+s[0]\n",
    "\n",
    "f('abcdefg')"
   ]
  },
  {
   "cell_type": "code",
   "execution_count": 3,
   "metadata": {},
   "outputs": [
    {
     "data": {
      "text/plain": [
       "20"
      ]
     },
     "execution_count": 3,
     "metadata": {},
     "output_type": "execute_result"
    }
   ],
   "source": [
    "def op(x,y):\n",
    "    return sum(i*j for i, j in zip(x, y))\n",
    "\n",
    "x = list(range(5))\n",
    "y = [5,4,3,2,1]\n",
    "op(x, y)"
   ]
  },
  {
   "cell_type": "code",
   "execution_count": 9,
   "metadata": {},
   "outputs": [
    {
     "data": {
      "text/plain": [
       "'abc'"
      ]
     },
     "execution_count": 9,
     "metadata": {},
     "output_type": "execute_result"
    }
   ],
   "source": [
    "def od(address):\n",
    "    return address.split('//')[-2]\n",
    "x = od(\"C://user//abc//log.txt\")\n",
    "x"
   ]
  },
  {
   "cell_type": "code",
   "execution_count": 11,
   "metadata": {},
   "outputs": [
    {
     "data": {
      "text/plain": [
       "['1', '12', '995', '102', '02', '003']"
      ]
     },
     "execution_count": 11,
     "metadata": {},
     "output_type": "execute_result"
    }
   ],
   "source": [
    "import re\n",
    "s1=\"\"\"1\\n12\\n995\\n9999\\n102\\n02\\n003\\n4d\"\"\"\n",
    "regex = re.compile('(?<![0-9])[0-9]{1,3}(?!\\w)')\n",
    "t = regex.findall(s1)\n",
    "t"
   ]
  },
  {
   "cell_type": "code",
   "execution_count": 31,
   "metadata": {},
   "outputs": [
    {
     "name": "stdout",
     "output_type": "stream",
     "text": [
      "2\n"
     ]
    }
   ],
   "source": [
    "n = 5\n",
    "k = 3\n",
    "nums = [2, 4, 1, 3, 5]\n",
    "\n",
    "target = [i+1 for i in range(k)]\n",
    "counter_out = 0\n",
    "counter_in = 0\n",
    "\n",
    "for i, x in enumerate(nums[:k]):\n",
    "    if x in target:\n",
    "        target.remove(x)\n",
    "    else:\n",
    "        counter_in += i\n",
    "\n",
    "for x in target:\n",
    "    counter_out += nums.index(x)\n",
    "\n",
    "print(counter_out-counter_in)"
   ]
  },
  {
   "cell_type": "code",
   "execution_count": 34,
   "metadata": {},
   "outputs": [
    {
     "data": {
      "text/plain": [
       "4"
      ]
     },
     "execution_count": 34,
     "metadata": {},
     "output_type": "execute_result"
    }
   ],
   "source": [
    "def le(x):\n",
    "    if x<10:\n",
    "        return 1\n",
    "    else:\n",
    "        return 1+le(x/10)\n",
    "\n",
    "le(1014)"
   ]
  },
  {
   "cell_type": "code",
   "execution_count": null,
   "metadata": {},
   "outputs": [],
   "source": []
  }
 ],
 "metadata": {
  "kernelspec": {
   "display_name": "Python 3.9.12 ('base')",
   "language": "python",
   "name": "python3"
  },
  "language_info": {
   "codemirror_mode": {
    "name": "ipython",
    "version": 3
   },
   "file_extension": ".py",
   "mimetype": "text/x-python",
   "name": "python",
   "nbconvert_exporter": "python",
   "pygments_lexer": "ipython3",
   "version": "3.11.5"
  },
  "orig_nbformat": 4,
  "vscode": {
   "interpreter": {
    "hash": "8ca57ae49ead0b366097bcc563585304072d523fd5808d303d34a81468022185"
   }
  }
 },
 "nbformat": 4,
 "nbformat_minor": 2
}
